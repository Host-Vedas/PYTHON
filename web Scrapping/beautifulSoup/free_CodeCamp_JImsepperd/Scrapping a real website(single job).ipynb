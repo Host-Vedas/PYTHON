{
 "cells": [
  {
   "cell_type": "code",
   "execution_count": 1,
   "id": "c00e602e",
   "metadata": {},
   "outputs": [],
   "source": [
    "from bs4 import BeautifulSoup"
   ]
  },
  {
   "cell_type": "code",
   "execution_count": 3,
   "id": "091d9609",
   "metadata": {},
   "outputs": [
    {
     "name": "stdout",
     "output_type": "stream",
     "text": [
      "Requirement already satisfied: requests in c:\\users\\ankit\\appdata\\local\\programs\\python\\python311\\lib\\site-packages (2.30.0)\n",
      "Requirement already satisfied: charset-normalizer<4,>=2 in c:\\users\\ankit\\appdata\\roaming\\python\\python311\\site-packages (from requests) (3.1.0)\n",
      "Requirement already satisfied: idna<4,>=2.5 in c:\\users\\ankit\\appdata\\roaming\\python\\python311\\site-packages (from requests) (3.4)\n",
      "Requirement already satisfied: urllib3<3,>=1.21.1 in c:\\users\\ankit\\appdata\\roaming\\python\\python311\\site-packages (from requests) (2.0.2)\n",
      "Requirement already satisfied: certifi>=2017.4.17 in c:\\users\\ankit\\appdata\\roaming\\python\\python311\\site-packages (from requests) (2022.12.7)\n"
     ]
    }
   ],
   "source": [
    "!pip install requests"
   ]
  },
  {
   "cell_type": "code",
   "execution_count": 4,
   "id": "abad38bd",
   "metadata": {},
   "outputs": [],
   "source": [
    "import requests"
   ]
  },
  {
   "cell_type": "code",
   "execution_count": 9,
   "id": "0211685c",
   "metadata": {},
   "outputs": [],
   "source": [
    "html_var = requests.get('https://www.timesjobs.com/candidate/job-search.html?searchType=personalizedSearch&from=submit&searchTextSrc=&searchTextText=&txtKeywords=python&txtLocation=').text\n"
   ]
  },
  {
   "cell_type": "code",
   "execution_count": 10,
   "id": "635a12ea",
   "metadata": {},
   "outputs": [],
   "source": [
    "soup = BeautifulSoup(html_var,'lxml')"
   ]
  },
  {
   "cell_type": "code",
   "execution_count": 27,
   "id": "0f9dff10",
   "metadata": {},
   "outputs": [],
   "source": [
    "job = soup.find('li',class_='clearfix job-bx wht-shd-bx')"
   ]
  },
  {
   "cell_type": "code",
   "execution_count": 28,
   "id": "6c9db705",
   "metadata": {},
   "outputs": [
    {
     "name": "stdout",
     "output_type": "stream",
     "text": [
      "<li class=\"clearfix job-bx wht-shd-bx\">\n",
      "<header class=\"clearfix\">\n",
      "<!--\n",
      "-->\n",
      "<!-- -->\n",
      "<h2>\n",
      "<a href=\"https://www.timesjobs.com/job-detail/python-developer-ivan-infotech-pvt-ltd-kolkata-2-to-5-yrs-jobid-1h6sLaqbaBZzpSvf__PLUS__uAgZw==&amp;source=srp\" onclick=\"logViewUSBT('view','67550863','rest  ,  python  ,  security  ,  debugging','Kolkata','2 - 5','IT Software : Software Products &amp; Services','1','' )\" target=\"_blank\">\n",
      "<strong class=\"blkclor\">Python</strong> Developer</a> </h2>\n",
      "<h3 class=\"joblist-comp-name\">\r\n",
      "    Ivan Infotech Pvt. Ltd.\r\n",
      "    \r\n",
      "    </h3>\n",
      "</header>\n",
      "<ul class=\"top-jd-dtl clearfix\">\n",
      "<li><i class=\"material-icons\">card_travel</i>2 - 5 yrs</li>\n",
      "<li>\n",
      "<i class=\"material-icons\">location_on</i>\n",
      "<span title=\"Kolkata\">Kolkata</span>\n",
      "</li>\n",
      "</ul>\n",
      "<ul class=\"list-job-dtl clearfix\">\n",
      "<li>\n",
      "<label>Job Description:</label>\r\n",
      "We are looking for a Python Developer to join our development team. Python Developer responsibilities include writing and testing code ,  debugging programs and integrating ap... <a href=\"https://www.timesjobs.com/job-detail/python-developer-ivan-infotech-pvt-ltd-kolkata-2-to-5-yrs-jobid-1h6sLaqbaBZzpSvf__PLUS__uAgZw==&amp;source=srp\" target=\"_blank\">More Details</a>\n",
      "</li>\n",
      "<li>\n",
      "<label>KeySkills:</label>\n",
      "<span class=\"srp-skills\">\r\n",
      "      \r\n",
      "          rest  ,  <strong class=\"blkclor\">python</strong>  ,  security  ,  debugging\r\n",
      "        \r\n",
      "      </span> </li>\n",
      "<!--\r\n",
      "            <li>\r\n",
      "              <i class=\"material-icons\">location_on</i>\r\n",
      "              Kolkata\r\n",
      "              </li>\r\n",
      "-->\n",
      "</ul>\n",
      "<div class=\"list-job-bt clearfix\">\n",
      "<div class=\"list-action\">\n",
      "<div class=\"applied-dtl clearfix\" id=\"showPostApplyData_67550863\">\n",
      "<a class=\"waves-effect waves-light btn\" href=\"javascript:callExtJobApply('67550863','adId=1h6sLaqbaBZzpSvf__PLUS__uAgZw==&amp;compName=Career Progress Consultants','TJPFSRP');\" onclick=\"trackClickEvent('View_AND_Apply_SRP','from_srp_externalJobs');logViewUSBT('apply','67550863','rest  ,  python  ,  security  ,  debugging','Kolkata','2 - 5','IT Software : Software Products &amp; Services','1','')\">Apply</a>\n",
      "<span class=\"jobs-status clearfix\">\n",
      "<!--\r\n",
      "       <i class=\"material-icons trnding-up\" title=\"Recently posted job, Recruiter is actively looking for candidates\">check_circle</i>\r\n",
      "        \r\n",
      "-->\n",
      "</span>\n",
      "<span class=\"sim-posted\">\n",
      "<span>Posted few days ago</span>\n",
      "</span>\n",
      "</div>\n",
      "</div>\n",
      "</div>\n",
      "</li>\n"
     ]
    }
   ],
   "source": [
    "print(job)"
   ]
  },
  {
   "cell_type": "code",
   "execution_count": 35,
   "id": "b10ef968",
   "metadata": {},
   "outputs": [],
   "source": [
    "company_name = job.find('h3',class_='joblist-comp-name').text.replace(' ','')\n",
    "skills = job.find('span',class_='srp-skills').text.replace(' ','')"
   ]
  },
  {
   "cell_type": "code",
   "execution_count": 36,
   "id": "81678c9b",
   "metadata": {},
   "outputs": [
    {
     "name": "stdout",
     "output_type": "stream",
     "text": [
      "\r\n",
      "\r\n",
      "rest,python,security,debugging\r\n",
      "\r\n",
      "\n"
     ]
    }
   ],
   "source": [
    "print(skills)"
   ]
  },
  {
   "cell_type": "code",
   "execution_count": 37,
   "id": "9131dcf4",
   "metadata": {},
   "outputs": [
    {
     "name": "stdout",
     "output_type": "stream",
     "text": [
      "\n",
      "Company Name : \r\n",
      "IvanInfotechPvt.Ltd.\r\n",
      "\r\n",
      "\n",
      "Required Skills : \r\n",
      "\r\n",
      "rest,python,security,debugging\r\n",
      "\r\n",
      "\n",
      "\n"
     ]
    }
   ],
   "source": [
    "print(f'''\n",
    "Company Name : {company_name}\n",
    "Required Skills : { skills}\n",
    "''')"
   ]
  },
  {
   "cell_type": "code",
   "execution_count": 42,
   "id": "b2a5ad9f",
   "metadata": {},
   "outputs": [
    {
     "name": "stdout",
     "output_type": "stream",
     "text": [
      "<span class=\"sim-posted\">\n",
      "<span>Posted few days ago</span>\n",
      "</span>\n"
     ]
    }
   ],
   "source": [
    "job_published_date = job.find('span',class_ = 'sim-posted')\n",
    "print(job_published_date)"
   ]
  },
  {
   "cell_type": "code",
   "execution_count": 43,
   "id": "fca8b5d5",
   "metadata": {},
   "outputs": [
    {
     "name": "stdout",
     "output_type": "stream",
     "text": [
      "Posted few days ago\n"
     ]
    }
   ],
   "source": [
    "job_published_date = job.find('span',class_ = 'sim-posted').span.text\n",
    "print(job_published_date)"
   ]
  },
  {
   "cell_type": "code",
   "execution_count": null,
   "id": "ab4c4545",
   "metadata": {},
   "outputs": [],
   "source": []
  },
  {
   "cell_type": "code",
   "execution_count": 30,
   "id": "2bac2db8",
   "metadata": {},
   "outputs": [
    {
     "name": "stdout",
     "output_type": "stream",
     "text": [
      "\r\n",
      "IvanInfotechPvt.Ltd.\r\n",
      "\r\n",
      "\n"
     ]
    }
   ],
   "source": []
  },
  {
   "cell_type": "code",
   "execution_count": null,
   "id": "b99a5c13",
   "metadata": {},
   "outputs": [],
   "source": []
  },
  {
   "cell_type": "code",
   "execution_count": null,
   "id": "00ed5df7",
   "metadata": {},
   "outputs": [],
   "source": []
  }
 ],
 "metadata": {
  "kernelspec": {
   "display_name": "Python 3 (ipykernel)",
   "language": "python",
   "name": "python3"
  },
  "language_info": {
   "codemirror_mode": {
    "name": "ipython",
    "version": 3
   },
   "file_extension": ".py",
   "mimetype": "text/x-python",
   "name": "python",
   "nbconvert_exporter": "python",
   "pygments_lexer": "ipython3",
   "version": "3.11.3"
  }
 },
 "nbformat": 4,
 "nbformat_minor": 5
}
