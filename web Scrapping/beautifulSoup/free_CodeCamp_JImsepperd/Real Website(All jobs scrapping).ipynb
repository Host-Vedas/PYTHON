{
 "cells": [
  {
   "cell_type": "code",
   "execution_count": 1,
   "id": "a9e9be2a",
   "metadata": {},
   "outputs": [],
   "source": [
    "from bs4 import BeautifulSoup"
   ]
  },
  {
   "cell_type": "code",
   "execution_count": 2,
   "id": "38f239d4",
   "metadata": {},
   "outputs": [],
   "source": [
    "import requests"
   ]
  },
  {
   "cell_type": "code",
   "execution_count": 3,
   "id": "dd0b5dc9",
   "metadata": {},
   "outputs": [],
   "source": [
    "html_file = requests.get('https://www.timesjobs.com/candidate/job-search.html?searchType=personalizedSearch&from=submit&searchTextSrc=&searchTextText=&txtKeywords=python&txtLocation=').text"
   ]
  },
  {
   "cell_type": "code",
   "execution_count": 4,
   "id": "07d59b73",
   "metadata": {},
   "outputs": [],
   "source": [
    "soup = BeautifulSoup(html_file,'lxml')"
   ]
  },
  {
   "cell_type": "code",
   "execution_count": 5,
   "id": "af6c8ee3",
   "metadata": {},
   "outputs": [],
   "source": [
    "jobs = soup.find_all('li',class_='clearfix job-bx wht-shd-bx')\n",
    "print(jobs)"
   ]
  },
  {
   "cell_type": "code",
   "execution_count": 6,
   "id": "208bf4f6",
   "metadata": {},
   "outputs": [],
   "source": [
    "company_name = jobs.find_all('h3',class_='joblist-comp-name').text.replace(' ','')"
   ]
  },
  {
   "cell_type": "code",
   "execution_count": null,
   "id": "9b6bff94",
   "metadata": {},
   "outputs": [],
   "source": [
    "for job in jobs:\n",
    "    published_date = job.find('span',class_ = 'sim-posted').span.text\n",
    "    if 'few' in published_date:\n",
    "        company_name = job.find('h3',class_='joblist-comp-name').text.replace(' ','')\n",
    "        skills = job.find('span',class_='srp-skills').text.replace(' ','')\n",
    "        print(f'''\n",
    "        Company Name : {company_name}\n",
    "        Required Skills : { skills}\n",
    "        Post Date :{job_published_date}\n",
    "        ''')\n",
    "        print('')"
   ]
  },
  {
   "cell_type": "code",
   "execution_count": null,
   "id": "b62003d5",
   "metadata": {},
   "outputs": [],
   "source": [
    "for job in jobs:\n",
    "    published_date = job.find('span',class_ = 'sim-posted').span.text\n",
    "    if 'few' in published_date:\n",
    "        company_name = job.find('h3',class_='joblist-comp-name').text.replace(' ','')\n",
    "        skills = job.find('span',class_='srp-skills').text.replace(' ','')\n",
    "        print(\"Company Name : {company_name.strip()}\")\n",
    "        print(f\"Required Skills : { skills.strip()}\")\n",
    "        print('')"
   ]
  },
  {
   "cell_type": "code",
   "execution_count": null,
   "id": "4bf3fd9f",
   "metadata": {},
   "outputs": [],
   "source": [
    "for job in jobs:\n",
    "    published_date = job.find('span',class_ = 'sim-posted').span.text\n",
    "    if 'few' in published_date:\n",
    "        company_name = job.find('h3',class_='joblist-comp-name').text.replace(' ','')\n",
    "        skills = job.find('span',class_='srp-skills').text.replace(' ','')\n",
    "        more_info = job.header.h2.a['href']\n",
    "        print(\"Company Name : {company_name.strip()}\")\n",
    "        print(f\"Required Skills : { skills.strip()}\")\n",
    "        print(f\"More Information : {more_info}\")\n",
    "        print('')"
   ]
  },
  {
   "cell_type": "code",
   "execution_count": null,
   "id": "ba7e6d6f",
   "metadata": {},
   "outputs": [],
   "source": [
    "print(\"Skills yu are unfamilai with\")\n",
    "unfamiliar_skill = input('>')\n",
    "print(f\"Filtering out unfamiliar skill\")\n",
    "for job in jobs:\n",
    "    published_date = job.find('span',class_ = 'sim-posted').span.text\n",
    "    if 'few' in published_date:\n",
    "        company_name = job.find('h3',class_='joblist-comp-name').text.replace(' ','')\n",
    "        skills = job.find('span',class_='srp-skills').text.replace(' ','')\n",
    "        more_info = job.header.h2.a['href']\n",
    "        if unfamiliar_skill not in skills:\n",
    "            print(\"Company Name : {company_name.strip()}\")\n",
    "            print(f\"Required Skills : { skills.strip()}\")\n",
    "            print(f\"More Information : {more_info}\")\n",
    "            print('')"
   ]
  },
  {
   "cell_type": "code",
   "execution_count": null,
   "id": "d8a5cf43",
   "metadata": {},
   "outputs": [
    {
     "name": "stdout",
     "output_type": "stream",
     "text": [
      "Skills yu are unfamilai with\n",
      ">linux\n",
      "Filtering out unfamiliar skill\n",
      "File saved  :0\n",
      "File saved  :1\n",
      "File saved  :3\n",
      "File saved  :5\n",
      "File saved  :6\n",
      "File saved  :7\n",
      "File saved  :8\n",
      "File saved  :9\n",
      "File saved  :10\n",
      "File saved  :12\n",
      "File saved  :13\n",
      "File saved  :14\n",
      "File saved  :15\n",
      "File saved  :16\n",
      "File saved  :18\n",
      "File saved  :19\n",
      "File saved  :20\n",
      "File saved  :21\n",
      "File saved  :22\n",
      "File saved  :24\n",
      "Waiting 100 Minites...\n"
     ]
    }
   ],
   "source": [
    "import time\n",
    "from bs4 import BeautifulSoup\n",
    "import requests\n",
    "print(\"Skills yu are unfamilai with\")\n",
    "unfamiliar_skill = input('>')\n",
    "print(f\"Filtering out unfamiliar skill\")\n",
    "def find_jobs():\n",
    "    html_file = requests.get('https://www.timesjobs.com/candidate/job-search.html?searchType=personalizedSearch&from=submit&searchTextSrc=&searchTextText=&txtKeywords=python&txtLocation=').text\n",
    "    soup = BeautifulSoup(html_file,'lxml')\n",
    "    jobs = soup.find_all('li',class_='clearfix job-bx wht-shd-bx')\n",
    "    for index,job in enumerate(jobs):\n",
    "        published_date = job.find('span',class_ = 'sim-posted').span.text\n",
    "        if 'few' in published_date:\n",
    "            company_name = job.find('h3',class_='joblist-comp-name').text.replace(' ','')\n",
    "            skills = job.find('span',class_='srp-skills').text.replace(' ','')\n",
    "            more_info = job.header.h2.a['href']\n",
    "            if unfamiliar_skill not in skills:\n",
    "                with open(f'Beautiful storegae dbms/{index}.txt','w') as f:\n",
    "                    f.write(f\"Company Name : {company_name.strip()} \\n\")\n",
    "                    f.write(f\"Required Skills : { skills.strip()} \\n\")\n",
    "                    f.write(f\"More Information : {more_info} \\n\")\n",
    "                print(f\"File saved  :{index}\")\n",
    "\n",
    "if __name__ == '__main__':\n",
    "    while True:\n",
    "        find_jobs()\n",
    "        time_wait = 100\n",
    "        print(f'Waiting {time_wait} Minites...')\n",
    "        time.sleep(time_wait * 60)"
   ]
  },
  {
   "cell_type": "code",
   "execution_count": null,
   "id": "e8941d56",
   "metadata": {},
   "outputs": [],
   "source": []
  }
 ],
 "metadata": {
  "kernelspec": {
   "display_name": "Python 3 (ipykernel)",
   "language": "python",
   "name": "python3"
  },
  "language_info": {
   "codemirror_mode": {
    "name": "ipython",
    "version": 3
   },
   "file_extension": ".py",
   "mimetype": "text/x-python",
   "name": "python",
   "nbconvert_exporter": "python",
   "pygments_lexer": "ipython3",
   "version": "3.11.3"
  }
 },
 "nbformat": 4,
 "nbformat_minor": 5
}
